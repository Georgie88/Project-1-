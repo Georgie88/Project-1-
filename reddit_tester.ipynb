{
 "cells": [
  {
   "cell_type": "code",
   "execution_count": 15,
   "metadata": {
    "collapsed": true
   },
   "outputs": [],
   "source": [
    "import pandas as pd\n",
    "import praw\n",
    "\n",
    "reddit = praw.Reddit(client_id='',\n",
    "                     client_secret='',\n",
    "                     user_agent='')\n"
   ]
  },
  {
   "cell_type": "code",
   "execution_count": 29,
   "metadata": {},
   "outputs": [
    {
     "name": "stdout",
     "output_type": "stream",
     "text": [
      "all\n",
      "True\n"
     ]
    }
   ],
   "source": [
    "subreddit = reddit.subreddit(\"all\")\n",
    "print(subreddit.display_name)\n",
    "print(reddit.read_only)"
   ]
  },
  {
   "cell_type": "code",
   "execution_count": 30,
   "metadata": {
    "collapsed": true
   },
   "outputs": [],
   "source": [
    "title = []\n",
    "score = []\n",
    "sub_ids = []\n",
    "url = []\n",
    "tot_comments = []\n",
    "\n",
    "for submission in subreddit.hot(limit=5):\n",
    "    #add to lists\n",
    "    title.append(submission.title)\n",
    "    score.append(submission.score)\n",
    "    sub_ids.append(submission.id)\n",
    "    url.append(submission.url)\n",
    "    tot_comments.append(submission.num_comments)\n"
   ]
  },
  {
   "cell_type": "code",
   "execution_count": 31,
   "metadata": {},
   "outputs": [
    {
     "data": {
      "text/plain": [
       "['[Megathread] McMaster has resigned as National Security Advisor and will be replaced by John Bolton',\n",
       " \"This pet store won't sell bunnies until after Easter\",\n",
       " 'National Security Adviser H.R. McMaster Resigns, Will Be Replaced by John Bolton',\n",
       " 'Golfer’s unlikely Hole-In-One by deflecting off the opponent’s ball on the green.',\n",
       " 'Frequency']"
      ]
     },
     "execution_count": 31,
     "metadata": {},
     "output_type": "execute_result"
    }
   ],
   "source": [
    "title"
   ]
  },
  {
   "cell_type": "code",
   "execution_count": 32,
   "metadata": {},
   "outputs": [
    {
     "data": {
      "text/html": [
       "<div>\n",
       "<style>\n",
       "    .dataframe thead tr:only-child th {\n",
       "        text-align: right;\n",
       "    }\n",
       "\n",
       "    .dataframe thead th {\n",
       "        text-align: left;\n",
       "    }\n",
       "\n",
       "    .dataframe tbody tr th {\n",
       "        vertical-align: top;\n",
       "    }\n",
       "</style>\n",
       "<table border=\"1\" class=\"dataframe\">\n",
       "  <thead>\n",
       "    <tr style=\"text-align: right;\">\n",
       "      <th></th>\n",
       "      <th>Submission ID</th>\n",
       "      <th>Submission Title</th>\n",
       "      <th>Submission Score</th>\n",
       "      <th>Submission URL</th>\n",
       "      <th>Total Submission Comments</th>\n",
       "    </tr>\n",
       "  </thead>\n",
       "  <tbody>\n",
       "    <tr>\n",
       "      <th>1</th>\n",
       "      <td>86ffxz</td>\n",
       "      <td>This pet store won't sell bunnies until after ...</td>\n",
       "      <td>88314</td>\n",
       "      <td>https://i.redd.it/xrgxdy9bzdn01.jpg</td>\n",
       "      <td>2022</td>\n",
       "    </tr>\n",
       "    <tr>\n",
       "      <th>0</th>\n",
       "      <td>86fq04</td>\n",
       "      <td>[Megathread] McMaster has resigned as National...</td>\n",
       "      <td>24353</td>\n",
       "      <td>https://www.reddit.com/r/politics/comments/86f...</td>\n",
       "      <td>9727</td>\n",
       "    </tr>\n",
       "    <tr>\n",
       "      <th>3</th>\n",
       "      <td>86fgwd</td>\n",
       "      <td>Golfer’s unlikely Hole-In-One by deflecting of...</td>\n",
       "      <td>19782</td>\n",
       "      <td>https://v.redd.it/lrd1f0znzdn01</td>\n",
       "      <td>497</td>\n",
       "    </tr>\n",
       "    <tr>\n",
       "      <th>4</th>\n",
       "      <td>86fh17</td>\n",
       "      <td>Frequency</td>\n",
       "      <td>14919</td>\n",
       "      <td>https://i.imgur.com/0jb9DfO.gifv</td>\n",
       "      <td>242</td>\n",
       "    </tr>\n",
       "    <tr>\n",
       "      <th>2</th>\n",
       "      <td>86fro6</td>\n",
       "      <td>National Security Adviser H.R. McMaster Resign...</td>\n",
       "      <td>12962</td>\n",
       "      <td>https://www.thedailybeast.com/national-securit...</td>\n",
       "      <td>1667</td>\n",
       "    </tr>\n",
       "  </tbody>\n",
       "</table>\n",
       "</div>"
      ],
      "text/plain": [
       "  Submission ID                                   Submission Title  \\\n",
       "1        86ffxz  This pet store won't sell bunnies until after ...   \n",
       "0        86fq04  [Megathread] McMaster has resigned as National...   \n",
       "3        86fgwd  Golfer’s unlikely Hole-In-One by deflecting of...   \n",
       "4        86fh17                                          Frequency   \n",
       "2        86fro6  National Security Adviser H.R. McMaster Resign...   \n",
       "\n",
       "   Submission Score                                     Submission URL  \\\n",
       "1             88314                https://i.redd.it/xrgxdy9bzdn01.jpg   \n",
       "0             24353  https://www.reddit.com/r/politics/comments/86f...   \n",
       "3             19782                    https://v.redd.it/lrd1f0znzdn01   \n",
       "4             14919                   https://i.imgur.com/0jb9DfO.gifv   \n",
       "2             12962  https://www.thedailybeast.com/national-securit...   \n",
       "\n",
       "   Total Submission Comments  \n",
       "1                       2022  \n",
       "0                       9727  \n",
       "3                        497  \n",
       "4                        242  \n",
       "2                       1667  "
      ]
     },
     "execution_count": 32,
     "metadata": {},
     "output_type": "execute_result"
    }
   ],
   "source": [
    "reddit_df = pd.DataFrame({\"Submission Title\":title, \"Submission Score\":score, \n",
    "                              \"Submission ID\":sub_ids, \"Submission URL\":url, \"Total Submission Comments\":tot_comments})\n",
    "\n",
    "reddit_df = reddit_df[[\"Submission ID\", \"Submission Title\", \"Submission Score\", \"Submission URL\", \"Total Submission Comments\"]]\n",
    "\n",
    "reddit_df.sort_values('Submission Score', ascending=False)"
   ]
  },
  {
   "cell_type": "code",
   "execution_count": 23,
   "metadata": {
    "collapsed": true
   },
   "outputs": [],
   "source": [
    "#for sub_id in sub_ids\n",
    " #   if isinstance "
   ]
  },
  {
   "cell_type": "code",
   "execution_count": 24,
   "metadata": {
    "collapsed": true
   },
   "outputs": [],
   "source": [
    "#submission = reddit.submission(id='865q78')"
   ]
  },
  {
   "cell_type": "code",
   "execution_count": 39,
   "metadata": {},
   "outputs": [
    {
     "name": "stdout",
     "output_type": "stream",
     "text": [
      "86fq04\n",
      ">[Trump calls report of looming McMaster exit 'fake news,' aide says](https://www.politico.com/story/2018/03/01/white-house-hr-mcmaster-exit-432698)\n",
      "\n",
      "21 days ago.\n",
      "86ffxz\n",
      "One summer I found a pet bunny running around my backyard (Suburbia). \n",
      "\n",
      "\n",
      "We have always had wild rabbits, Cottontails, but this rabbit looked much different. Wild rabbits were brown, small, and had ears that stick up. \n",
      "\n",
      "\n",
      "This rabbit was bigger, light tan, and had FLOPPY ears. He strolled around yard and the neighbors for a couple days, letting me and my neighbors come up to him with food. We were certain it was a pet, and that we should probably catch it before a dog got it. \n",
      "\n",
      "\n",
      "I caught him and gave him to my boyfriend's mom. They had cats, and soon the bunny was bigger than the cats. He played with them, and liked to cuddle. He was also a house trained bunny, and never had accidents outside his cage.\n",
      "\n",
      "\n",
      "Someone had just dumped him into the neighborhood, a perfectly nice, well behaved lop ear. He might have just escaped, but all the neighborhood notices that we put up went unanswered. He lived a happy and full life regardless.\n",
      "86fro6\n",
      "I'm ready for Sean Hannity to be announced as Chief of Staff.\n",
      "86fgwd\n",
      "And he won a BMW for the shot. \n",
      "86fh17\n",
      "Should have said: Resonance \n"
     ]
    }
   ],
   "source": [
    "for submission_id in reddit_df['Submission ID']:\n",
    "    \n",
    "    submission = reddit.submission(id=submission_id)\n",
    "    for top_level_comment in submission.comments:\n",
    "        print(submission_id)\n",
    "        print(top_level_comment.body)\n",
    "        break\n",
    "    "
   ]
  },
  {
   "cell_type": "code",
   "execution_count": 32,
   "metadata": {},
   "outputs": [
    {
     "data": {
      "text/html": [
       "<div>\n",
       "<style>\n",
       "    .dataframe thead tr:only-child th {\n",
       "        text-align: right;\n",
       "    }\n",
       "\n",
       "    .dataframe thead th {\n",
       "        text-align: left;\n",
       "    }\n",
       "\n",
       "    .dataframe tbody tr th {\n",
       "        vertical-align: top;\n",
       "    }\n",
       "</style>\n",
       "<table border=\"1\" class=\"dataframe\">\n",
       "  <thead>\n",
       "    <tr style=\"text-align: right;\">\n",
       "      <th></th>\n",
       "      <th>Submission Comments</th>\n",
       "    </tr>\n",
       "  </thead>\n",
       "  <tbody>\n",
       "    <tr>\n",
       "      <th>0</th>\n",
       "      <td>Darn... I bet it is good.  Don't be alarmed if your poop is red though! The natural pigment in beets is so strong.</td>\n",
       "    </tr>\n",
       "    <tr>\n",
       "      <th>1</th>\n",
       "      <td>I did actually! It’s pretty good, slight beet taste but I like beets. I also used some as chips in a cheese sauce.</td>\n",
       "    </tr>\n",
       "    <tr>\n",
       "      <th>2</th>\n",
       "      <td>Does anyone have the box? Curious what all the ingredients are.</td>\n",
       "    </tr>\n",
       "    <tr>\n",
       "      <th>3</th>\n",
       "      <td>Get it and report back u/joruch</td>\n",
       "    </tr>\n",
       "    <tr>\n",
       "      <th>4</th>\n",
       "      <td>No, but let us know when you do.  When my son was little we had him on the Feingold diet, and that means you try and stay away from high salicylate foods like tomatoes.  We made a substitute for tomatoe sauce by mixing beets, and carrots, cooking them together with herbs, lemon juices and then blenderizing the mixture.  It was actually really good.  I have thought of trying to see if I could make a product of it off and on over the years.</td>\n",
       "    </tr>\n",
       "  </tbody>\n",
       "</table>\n",
       "</div>"
      ],
      "text/plain": [
       "                                                                                                                                                                                                                                                                                                                                                                                                                                          Submission Comments\n",
       "0  Darn... I bet it is good.  Don't be alarmed if your poop is red though! The natural pigment in beets is so strong.                                                                                                                                                                                                                                                                                                                                        \n",
       "1  I did actually! It’s pretty good, slight beet taste but I like beets. I also used some as chips in a cheese sauce.                                                                                                                                                                                                                                                                                                                                        \n",
       "2  Does anyone have the box? Curious what all the ingredients are.                                                                                                                                                                                                                                                                                                                                                                                           \n",
       "3  Get it and report back u/joruch                                                                                                                                                                                                                                                                                                                                                                                                                           \n",
       "4  No, but let us know when you do.  When my son was little we had him on the Feingold diet, and that means you try and stay away from high salicylate foods like tomatoes.  We made a substitute for tomatoe sauce by mixing beets, and carrots, cooking them together with herbs, lemon juices and then blenderizing the mixture.  It was actually really good.  I have thought of trying to see if I could make a product of it off and on over the years."
      ]
     },
     "execution_count": 32,
     "metadata": {},
     "output_type": "execute_result"
    }
   ],
   "source": [
    "#comments_df = pd.DataFrame({\"Submission Comments\":comments})\n",
    "#comments_df"
   ]
  },
  {
   "cell_type": "code",
   "execution_count": null,
   "metadata": {
    "collapsed": true
   },
   "outputs": [],
   "source": []
  },
  {
   "cell_type": "code",
   "execution_count": null,
   "metadata": {
    "collapsed": true
   },
   "outputs": [],
   "source": []
  }
 ],
 "metadata": {
  "kernelspec": {
   "display_name": "Python 3",
   "language": "python",
   "name": "python3"
  },
  "language_info": {
   "codemirror_mode": {
    "name": "ipython",
    "version": 3
   },
   "file_extension": ".py",
   "mimetype": "text/x-python",
   "name": "python",
   "nbconvert_exporter": "python",
   "pygments_lexer": "ipython3",
   "version": "3.6.3"
  }
 },
 "nbformat": 4,
 "nbformat_minor": 2
}
