{
 "cells": [
  {
   "cell_type": "code",
   "execution_count": null,
   "metadata": {
    "collapsed": true
   },
   "outputs": [],
   "source": [
    "# import dependencies #! python3\n",
    "import praw\n",
    "import matplotlib.pyplot as plt\n",
    "import pandas as pd\n",
    "import numpy as np\n",
    "import json"
   ]
  },
  {
   "cell_type": "code",
   "execution_count": null,
   "metadata": {
    "collapsed": true
   },
   "outputs": [],
   "source": [
    "reddit = praw.Reddit(client_id='xxxxxxx',\n",
    "                     client_secret='xxxxxxx',\n",
    "                     password='xxxxxxx',\n",
    "                     user_agent='xxxxxxxx',\n",
    "                     username='xxxxxxx')"
   ]
  },
  {
   "cell_type": "code",
   "execution_count": null,
   "metadata": {
    "collapsed": true
   },
   "outputs": [],
   "source": [
    "all = reddit.subreddit(\"all\")\n",
    "reddit_submissions = []\n",
    "for i in all.search(\"food poisoning\", limit=1000):\n",
    "    print(i.title)\n",
    "    reddit_submissions.append(i)\n"
   ]
  },
  {
   "cell_type": "code",
   "execution_count": null,
   "metadata": {
    "collapsed": true
   },
   "outputs": [],
   "source": [
    "# look at what we can extract from Submission object\n",
    "dir(reddit_submissions[0])"
   ]
  },
  {
   "cell_type": "code",
   "execution_count": null,
   "metadata": {
    "collapsed": true
   },
   "outputs": [],
   "source": [
    "reddit_body = []\n",
    "reddit_title = [] \n",
    "for submission in reddit_submissions:\n",
    "    for top_level_comment in submission.comments:\n",
    "        try:\n",
    "            print((top_level_comment.body))\n",
    "            reddit_body.append(top_level_comment.body)\n",
    "            reddit_title.append(submission.title)\n",
    "        except: \n",
    "            continue"
   ]
  },
  {
   "cell_type": "code",
   "execution_count": null,
   "metadata": {
    "collapsed": true
   },
   "outputs": [],
   "source": []
  },
  {
   "cell_type": "code",
   "execution_count": 9,
   "metadata": {
    "collapsed": true
   },
   "outputs": [],
   "source": [
    "from vaderSentiment.vaderSentiment import SentimentIntensityAnalyzer\n",
    "\n",
    "pos = []\n",
    "neu = []\n",
    "neg = []\n",
    "compound = []\n",
    "\n",
    "analyzer = SentimentIntensityAnalyzer()\n",
    "for sentence in reddit_body:\n",
    "    vs = analyzer.polarity_scores(sentence)\n",
    "    pos.append(vs['pos'])\n",
    "    neu.append(vs['neu'])\n",
    "    neg.append(vs['neg'])\n",
    "    compound.append(vs['compound'])\n",
    "\n",
    "\n",
    "    \n",
    "reddit_df = pd.DataFrame(np.column_stack([reddit_title, reddit_body, pos, neu, neg, compound]), \n",
    "                               columns=['Title', 'Comments', 'Pos', 'Neu', 'Neg', 'Compound'])"
   ]
  },
  {
   "cell_type": "code",
   "execution_count": 10,
   "metadata": {},
   "outputs": [
    {
     "data": {
      "text/html": [
       "<div>\n",
       "<style>\n",
       "    .dataframe thead tr:only-child th {\n",
       "        text-align: right;\n",
       "    }\n",
       "\n",
       "    .dataframe thead th {\n",
       "        text-align: left;\n",
       "    }\n",
       "\n",
       "    .dataframe tbody tr th {\n",
       "        vertical-align: top;\n",
       "    }\n",
       "</style>\n",
       "<table border=\"1\" class=\"dataframe\">\n",
       "  <thead>\n",
       "    <tr style=\"text-align: right;\">\n",
       "      <th></th>\n",
       "      <th>Title</th>\n",
       "      <th>Comments</th>\n",
       "      <th>Pos</th>\n",
       "      <th>Neu</th>\n",
       "      <th>Neg</th>\n",
       "      <th>Compound</th>\n",
       "    </tr>\n",
       "  </thead>\n",
       "  <tbody>\n",
       "    <tr>\n",
       "      <th>0</th>\n",
       "      <td>Family gets food poisoning at dinner held to c...</td>\n",
       "      <td>Maybe someone else should cook?</td>\n",
       "      <td>0.0</td>\n",
       "      <td>1.0</td>\n",
       "      <td>0.0</td>\n",
       "      <td>0.0</td>\n",
       "    </tr>\n",
       "    <tr>\n",
       "      <th>1</th>\n",
       "      <td>Family gets food poisoning at dinner held to c...</td>\n",
       "      <td>Do people normally celebrate surviving food po...</td>\n",
       "      <td>0.431</td>\n",
       "      <td>0.292</td>\n",
       "      <td>0.277</td>\n",
       "      <td>0.2732</td>\n",
       "    </tr>\n",
       "    <tr>\n",
       "      <th>2</th>\n",
       "      <td>Family gets food poisoning at dinner held to c...</td>\n",
       "      <td>&gt; “We don’t get it. First we were poisoned and...</td>\n",
       "      <td>0.242</td>\n",
       "      <td>0.67</td>\n",
       "      <td>0.088</td>\n",
       "      <td>0.8519</td>\n",
       "    </tr>\n",
       "    <tr>\n",
       "      <th>3</th>\n",
       "      <td>Family gets food poisoning at dinner held to c...</td>\n",
       "      <td>Well if they survive, we should have a dinner ...</td>\n",
       "      <td>0.189</td>\n",
       "      <td>0.811</td>\n",
       "      <td>0.0</td>\n",
       "      <td>0.2732</td>\n",
       "    </tr>\n",
       "    <tr>\n",
       "      <th>4</th>\n",
       "      <td>Family gets food poisoning at dinner held to c...</td>\n",
       "      <td>In 1985, lifeguards in New Orleans threw a poo...</td>\n",
       "      <td>0.283</td>\n",
       "      <td>0.717</td>\n",
       "      <td>0.0</td>\n",
       "      <td>0.8442</td>\n",
       "    </tr>\n",
       "  </tbody>\n",
       "</table>\n",
       "</div>"
      ],
      "text/plain": [
       "                                               Title  \\\n",
       "0  Family gets food poisoning at dinner held to c...   \n",
       "1  Family gets food poisoning at dinner held to c...   \n",
       "2  Family gets food poisoning at dinner held to c...   \n",
       "3  Family gets food poisoning at dinner held to c...   \n",
       "4  Family gets food poisoning at dinner held to c...   \n",
       "\n",
       "                                            Comments    Pos    Neu    Neg  \\\n",
       "0                    Maybe someone else should cook?    0.0    1.0    0.0   \n",
       "1  Do people normally celebrate surviving food po...  0.431  0.292  0.277   \n",
       "2  > “We don’t get it. First we were poisoned and...  0.242   0.67  0.088   \n",
       "3  Well if they survive, we should have a dinner ...  0.189  0.811    0.0   \n",
       "4  In 1985, lifeguards in New Orleans threw a poo...  0.283  0.717    0.0   \n",
       "\n",
       "  Compound  \n",
       "0      0.0  \n",
       "1   0.2732  \n",
       "2   0.8519  \n",
       "3   0.2732  \n",
       "4   0.8442  "
      ]
     },
     "execution_count": 10,
     "metadata": {},
     "output_type": "execute_result"
    }
   ],
   "source": [
    "reddit_df.head()"
   ]
  },
  {
   "cell_type": "code",
   "execution_count": null,
   "metadata": {
    "collapsed": true
   },
   "outputs": [],
   "source": [
    "for i in all.search(\"baby food poisoning\", limit=1000):\n",
    "    print(i.title)\n",
    "    reddit_submissions.append(i)\n",
    "for i in all.search(\"bakery food poisoning\", limit=1000):\n",
    "    print(i.title)\n",
    "    reddit_submissions.append(i)"
   ]
  }
 ],
 "metadata": {
  "kernelspec": {
   "display_name": "Python 3",
   "language": "python",
   "name": "python3"
  },
  "language_info": {
   "codemirror_mode": {
    "name": "ipython",
    "version": 3
   },
   "file_extension": ".py",
   "mimetype": "text/x-python",
   "name": "python",
   "nbconvert_exporter": "python",
   "pygments_lexer": "ipython3",
   "version": "3.6.3"
  }
 },
 "nbformat": 4,
 "nbformat_minor": 2
}
